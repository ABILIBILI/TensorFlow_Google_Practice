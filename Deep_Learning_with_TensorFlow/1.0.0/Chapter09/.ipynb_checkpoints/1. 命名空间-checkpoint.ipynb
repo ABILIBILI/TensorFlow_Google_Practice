{
 "cells": [
  {
   "cell_type": "markdown",
   "metadata": {
    "toc": "true"
   },
   "source": [
    "# Table of Contents\n",
    " <p><div class=\"lev4 toc-item\"><a href=\"#1.--不同的命名空间。\" data-toc-modified-id=\"1.--不同的命名空间。-0001\"><span class=\"toc-item-num\">0.0.0.1&nbsp;&nbsp;</span>1.  不同的命名空间。</a></div><div class=\"lev4 toc-item\"><a href=\"#2.-tf.Variable和tf.get_variable的区别。\" data-toc-modified-id=\"2.-tf.Variable和tf.get_variable的区别。-0002\"><span class=\"toc-item-num\">0.0.0.2&nbsp;&nbsp;</span>2. tf.Variable和tf.get_variable的区别。</a></div><div class=\"lev4 toc-item\"><a href=\"#3.-TensorBoard可以根据命名空间来整理可视化效果图上的节点。\" data-toc-modified-id=\"3.-TensorBoard可以根据命名空间来整理可视化效果图上的节点。-0003\"><span class=\"toc-item-num\">0.0.0.3&nbsp;&nbsp;</span>3. TensorBoard可以根据命名空间来整理可视化效果图上的节点。</a></div>"
   ]
  },
  {
   "cell_type": "markdown",
   "metadata": {},
   "source": [
    "#### 1.  不同的命名空间。"
   ]
  },
  {
   "cell_type": "code",
   "execution_count": 1,
   "metadata": {},
   "outputs": [
    {
     "name": "stdout",
     "output_type": "stream",
     "text": [
      "foo/bar:0\n",
      "bar/bar:0\n"
     ]
    }
   ],
   "source": [
    "import tensorflow as tf\n",
    "with tf.variable_scope(\"foo\"):\n",
    "    a = tf.get_variable(\"bar\", [1])\n",
    "    print a.name\n",
    "\n",
    "with tf.variable_scope(\"bar\"):\n",
    "    b = tf.get_variable(\"bar\", [1])\n",
    "    print b.name"
   ]
  },
  {
   "cell_type": "markdown",
   "metadata": {},
   "source": [
    "#### 2. tf.Variable和tf.get_variable的区别。"
   ]
  },
  {
   "cell_type": "code",
   "execution_count": 2,
   "metadata": {},
   "outputs": [
    {
     "name": "stdout",
     "output_type": "stream",
     "text": [
      "a/Variable:0\n",
      "b:0\n"
     ]
    }
   ],
   "source": [
    "with tf.name_scope(\"a\"):\n",
    "    a = tf.Variable([1])\n",
    "    print a.name\n",
    "    \n",
    "    a = tf.get_variable(\"b\", [1])\n",
    "    print a.name"
   ]
  },
  {
   "cell_type": "markdown",
   "metadata": {},
   "source": [
    "#### 3. TensorBoard可以根据命名空间来整理可视化效果图上的节点。"
   ]
  },
  {
   "cell_type": "code",
   "execution_count": 3,
   "metadata": {
    "collapsed": true
   },
   "outputs": [],
   "source": [
    "with tf.name_scope(\"input1\"):\n",
    "    input1 = tf.constant([1.0, 2.0, 3.0], name=\"input1\")\n",
    "with tf.name_scope(\"input2\"):\n",
    "    input2 = tf.Variable(tf.random_uniform([3]), name=\"input2\")\n",
    "output = tf.add_n([input1, input2], name=\"add\")\n",
    "\n",
    "writer = tf.summary.FileWriter(\"/log/simple_example.log\", tf.get_default_graph())\n",
    "writer.close()"
   ]
  }
 ],
 "metadata": {
  "kernelspec": {
   "display_name": "Python 2",
   "language": "python",
   "name": "python2"
  },
  "language_info": {
   "codemirror_mode": {
    "name": "ipython",
    "version": 2
   },
   "file_extension": ".py",
   "mimetype": "text/x-python",
   "name": "python",
   "nbconvert_exporter": "python",
   "pygments_lexer": "ipython2",
   "version": "2.7.12"
  },
  "toc": {
   "colors": {
    "hover_highlight": "#DAA520",
    "navigate_num": "#008040",
    "navigate_text": "#00ff00",
    "running_highlight": "#FF0000",
    "selected_highlight": "#FFD700",
    "sidebar_border": "#8080ff",
    "wrapper_background": "#FFFFFF"
   },
   "moveMenuLeft": true,
   "nav_menu": {
    "height": "63px",
    "width": "254px"
   },
   "navigate_menu": true,
   "number_sections": true,
   "sideBar": true,
   "threshold": 4,
   "toc_cell": true,
   "toc_section_display": "block",
   "toc_window_display": true,
   "widenNotebook": false
  }
 },
 "nbformat": 4,
 "nbformat_minor": 1
}
